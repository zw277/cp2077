{
 "cells": [
  {
   "cell_type": "code",
   "execution_count": 56,
   "metadata": {},
   "outputs": [],
   "source": [
    "import requests\n",
    "import pandas as pd\n",
    "import numpy as np"
   ]
  },
  {
   "cell_type": "code",
   "execution_count": 57,
   "metadata": {},
   "outputs": [],
   "source": [
    "# check this link https://github.com/MullerAC/video-game-review-analysis/tree/main/notebooks\n",
    "def get_reviews(appid, params):\n",
    "        url_start = 'https://store.steampowered.com/appreviews/'\n",
    "        try:\n",
    "            response = requests.get(url=url_start+str(appid), params=params, headers={'User-Agent': 'Zhonglin/5.0'})\n",
    "        except:\n",
    "                return {'reviews' : []}\n",
    "        return response.json() # return data extracted from the json response\n",
    "\n"
   ]
  },
  {
   "cell_type": "code",
   "execution_count": 58,
   "metadata": {},
   "outputs": [
    {
     "data": {
      "text/plain": [
       "{'json': 1,\n",
       " 'filter': 'all',\n",
       " 'language': 'english',\n",
       " 'day_range': 9223372036854775807,\n",
       " 'review_type': 'all',\n",
       " 'purchase_type': 'all',\n",
       " 'num_per_page': 100,\n",
       " 'cursor': b'*'}"
      ]
     },
     "execution_count": 58,
     "metadata": {},
     "output_type": "execute_result"
    }
   ],
   "source": [
    "reviews = []\n",
    "# cursor = 'AoIIPxGayHqn+uUD'\n",
    "cursor = '*'\n",
    "\n",
    "params = { # https://partner.steamgames.com/doc/store/getreviews\n",
    "    'json' : 1,\n",
    "    'filter' : 'all', # sort by: recent, updated, all (helpfullness)\n",
    "    'language' : 'english', # https://partner.steamgames.com/doc/store/localization\n",
    "    'day_range' : 9223372036854775807, # shows reveiws from all time\n",
    "    'review_type' : 'all', # all, positive, negative\n",
    "    'purchase_type' : 'all', # all, non_steam_purchase, steam\n",
    "    'num_per_page' : 100,\n",
    "    'cursor' : '*'.encode()\n",
    "          }\n",
    "params\n"
   ]
  },
  {
   "cell_type": "code",
   "execution_count": 60,
   "metadata": {},
   "outputs": [
    {
     "data": {
      "text/plain": [
       "'Been here since day 1, and I am someone who came from the PS4 version of the game. This has been quite the journey from its horrendous launch to where we are today. Ever since launch I have enjoyed the game, though I do acknowledge that it is completely unacceptable how this game launched, and no video game should launch how Cyberpunk 2077 did. I\\'d say that this game has been \"playable\" since its 1.3 updates, but it wasn\\'t in a state where I could fully recommended this game to others due to it still being in a worst state than early day Skyrim or the likes. Now here we are, the 1.5 relaunch update has brought us the \"next gen\" update to the game. Whatever you want to actually call this update, it brings the soft overhaul to the game in terms of stability and actual feature and mechanics rebalance to make the game far better in its design, and thus making it feel better to play, along with its far improved stability. The game is now at a state where I could fully recommend it.\\n\\nThe game is still far from being perfect, as certain play styles far outclass other play styles in terms of combat, especially melee combat, as its still pretty stiff and a bit of a button masher at times. Content still feels weirdly distributed around the map with some areas being far more dense in terms of content than others. Any other complaints I have would just be nitpicking at the game really. \\n\\nThere is a lot to like about this game. The characters do feel genuine in who they are and what roles they play. The combat and stealth in most areas feels good or great mechanically and in execution. Traversing the world is never really a chore, given the amount of different vehicle types, the large number of fast travel locations, and general movement speed when on the ground thanks to the not terrible stamina amount you have along with the very basic parkour system you get access to. The decent variation in quests has a mix of combat, detective work, or even stealth retrieval, sometimes a multiple of styles. Depending on which skill tree you spec in, it actually changes a lot of how you approach each quest. You can go in stealthy, or go in guns blazing or fist swingin\\' if the quest allows for it. The driving was alright before the 1.5 update, but it is now incredible how much better it feels to control in the 1.5 update given the new types of driving options you have. There is a large variety of cars and motorbikes you can obtain too, and you don\\'t even need to buy any to have good options. You can good a good selection of vehicles by just doing the main campaign.\\n\\nI really genuinely like this game, a lot. It is far from perfect, but it is really fun to play. If you were unsure about the game before, but were thinking about jumping in with this update coming out, you should play it. I highly recommend the game now. It is a lot of fun, and is now in a far more acceptable state now.'"
      ]
     },
     "execution_count": 60,
     "metadata": {},
     "output_type": "execute_result"
    }
   ],
   "source": [
    "# get reviews for appid 1091500\n",
    "reviews += get_reviews(1091500, params)['reviews']\n",
    "reviews_df = pd.DataFrame(reviews)[['review', 'voted_up']]\n",
    "reviews_df.dropna(inplace=True)\n",
    "reviews_df.reset_index(inplace=True)\n",
    "reviews_df\n",
    "reviews_df.iloc[0]['review']\n"
   ]
  }
 ],
 "metadata": {
  "kernelspec": {
   "display_name": "Python 3.10.4 64-bit",
   "language": "python",
   "name": "python3"
  },
  "language_info": {
   "codemirror_mode": {
    "name": "ipython",
    "version": 3
   },
   "file_extension": ".py",
   "mimetype": "text/x-python",
   "name": "python",
   "nbconvert_exporter": "python",
   "pygments_lexer": "ipython3",
   "version": "3.10.4 (main, Nov 29 2022, 20:00:25) [GCC 9.4.0]"
  },
  "orig_nbformat": 4,
  "vscode": {
   "interpreter": {
    "hash": "3ad933181bd8a04b432d3370b9dc3b0662ad032c4dfaa4e4f1596c548f763858"
   }
  }
 },
 "nbformat": 4,
 "nbformat_minor": 2
}
