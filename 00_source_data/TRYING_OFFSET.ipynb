{
 "cells": [
  {
   "cell_type": "code",
   "execution_count": 1,
   "metadata": {},
   "outputs": [],
   "source": [
    "import requests"
   ]
  },
  {
   "cell_type": "code",
   "execution_count": 2,
   "metadata": {},
   "outputs": [],
   "source": [
    "item1 = requests.get(\"http://store.steampowered.com/appreviews/1091500?json=1&start_offset=100\").json()"
   ]
  },
  {
   "cell_type": "code",
   "execution_count": 3,
   "metadata": {},
   "outputs": [
    {
     "data": {
      "text/plain": [
       "b'AoIIPxGayHqn+uUD'"
      ]
     },
     "execution_count": 3,
     "metadata": {},
     "output_type": "execute_result"
    }
   ],
   "source": [
    "\n",
    "cursor = b'AoIIPxGayHqn+uUD'\n",
    "cursor"
   ]
  },
  {
   "cell_type": "code",
   "execution_count": 4,
   "metadata": {},
   "outputs": [],
   "source": [
    "item2 = requests.get(\"http://store.steampowered.com/appreviews/1091500?json=1&cursor=AoIIPxGayHqn+uUD\").json()"
   ]
  },
  {
   "cell_type": "code",
   "execution_count": 5,
   "metadata": {},
   "outputs": [
    {
     "data": {
      "text/plain": [
       "{'json': 1, 'cursor': b'AoIIPxJYxXPsn+ED'}"
      ]
     },
     "execution_count": 5,
     "metadata": {},
     "output_type": "execute_result"
    }
   ],
   "source": [
    "item1\n",
    "# def get_reviews(appid, params={'json':1}): \n",
    "#         url = 'https://store.steampowered.com/appreviews/' \n",
    "#         response = requests.get(url=url+appid, params=params, headers={'User-Agent': 'Zhonglin/5.0'}) \n",
    "#         return response.json()\n",
    "params = {'json':1} \n",
    "cursor = item1['cursor'] \n",
    "params['cursor'] = cursor.encode('utf-8')\n",
    "# item2 = get_reviews(1091500, params)\n",
    "params"
   ]
  },
  {
   "cell_type": "code",
   "execution_count": 6,
   "metadata": {},
   "outputs": [
    {
     "data": {
      "text/plain": [
       "{'success': 8,\n",
       " 'error': 'Invalid cursor: \"AoIIPxGayHqn uUD\".  Please provide a valid, URL encoded cursor.'}"
      ]
     },
     "execution_count": 6,
     "metadata": {},
     "output_type": "execute_result"
    }
   ],
   "source": [
    "item2"
   ]
  },
  {
   "cell_type": "code",
   "execution_count": 7,
   "metadata": {},
   "outputs": [
    {
     "data": {
      "text/plain": [
       "{'success': 8,\n",
       " 'error': 'Invalid cursor: \"AoIIPxGayHqn uUD\".  Please provide a valid, URL encoded cursor.'}"
      ]
     },
     "execution_count": 7,
     "metadata": {},
     "output_type": "execute_result"
    }
   ],
   "source": [
    "item2 = requests.get(\"http://store.steampowered.com/appreviews/1091500?json=1&cursor=AoIIPxGayHqn+uUD\").json()\n",
    "item2"
   ]
  }
 ],
 "metadata": {
  "kernelspec": {
   "display_name": "Python 3.10.4 64-bit",
   "language": "python",
   "name": "python3"
  },
  "language_info": {
   "codemirror_mode": {
    "name": "ipython",
    "version": 3
   },
   "file_extension": ".py",
   "mimetype": "text/x-python",
   "name": "python",
   "nbconvert_exporter": "python",
   "pygments_lexer": "ipython3",
   "version": "3.10.4"
  },
  "orig_nbformat": 4,
  "vscode": {
   "interpreter": {
    "hash": "3ad933181bd8a04b432d3370b9dc3b0662ad032c4dfaa4e4f1596c548f763858"
   }
  }
 },
 "nbformat": 4,
 "nbformat_minor": 2
}
